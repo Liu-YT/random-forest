{
 "cells": [
  {
   "cell_type": "code",
   "execution_count": 1,
   "metadata": {},
   "outputs": [],
   "source": [
    "# 数据读取\n",
    "import pandas as pd\n",
    "import time as tm\n",
    "import numpy as np\n",
    "import random\n",
    "\n",
    "\n",
    "data_train_1 = pd.read_csv(\"./data/train1.csv\", header=None)\n",
    "data_train_2 = pd.read_csv(\"./data/train2.csv\", header=None)\n",
    "data_train_3 = pd.read_csv(\"./data/train3.csv\", header=None)\n",
    "data_train_4 = pd.read_csv(\"./data/train4.csv\", header=None)\n",
    "data_train_5 = pd.read_csv(\"./data/train5.csv\", header=None)\n",
    "\n",
    "data_test_1 = pd.read_csv(\"./data/test1.csv\", header=None)\n",
    "data_test_2 = pd.read_csv(\"./data/test2.csv\", header=None)\n",
    "data_test_3 = pd.read_csv(\"./data/test3.csv\", header=None)\n",
    "data_test_4 = pd.read_csv(\"./data/test4.csv\", header=None)\n",
    "data_test_5 = pd.read_csv(\"./data/test5.csv\", header=None)\n",
    "data_test_6 = pd.read_csv(\"./data/test6.csv\", header=None)\n",
    "\n",
    "label_1 = pd.read_csv(\"./data/label1.csv\", header=None)\n",
    "label_2 = pd.read_csv(\"./data/label2.csv\", header=None)\n",
    "label_3 = pd.read_csv(\"./data/label3.csv\", header=None)\n",
    "label_4 = pd.read_csv(\"./data/label4.csv\", header=None)\n",
    "label_5 = pd.read_csv(\"./data/label5.csv\", header=None)"
   ]
  },
  {
   "cell_type": "code",
   "execution_count": 2,
   "metadata": {},
   "outputs": [],
   "source": [
    "from sklearn.model_selection import train_test_split\n",
    "x = pd.concat([data_train_1, data_train_2, data_train_3, data_train_4, data_train_5], ignore_index=True)\n",
    "y = pd.concat([label_1, label_2, label_3, label_4, label_5], ignore_index=True)\n",
    "x_train, x_test, y_train, y_test = train_test_split(x, y, test_size=0.25)"
   ]
  },
  {
   "cell_type": "code",
   "execution_count": null,
   "metadata": {
    "scrolled": true
   },
   "outputs": [
    {
     "name": "stderr",
     "output_type": "stream",
     "text": [
      "d:\\python3.7\\lib\\site-packages\\ipykernel_launcher.py:3: DataConversionWarning: A column-vector y was passed when a 1d array was expected. Please change the shape of y to (n_samples,), for example using ravel().\n",
      "  This is separate from the ipykernel package so we can avoid doing imports until\n"
     ]
    }
   ],
   "source": [
    "from sklearn.ensemble import RandomForestRegressor\n",
    "regressor = RandomForestRegressor(n_estimators=8, max_depth=9, max_features=10, min_impurity_decrease = 1e-7)\n",
    "regressor.fit(x_train, y_train)"
   ]
  },
  {
   "cell_type": "code",
   "execution_count": null,
   "metadata": {},
   "outputs": [],
   "source": [
    "from sklearn.metrics import r2_score\n",
    "result = regressor.predict(x_test)\n",
    "score = r2_score(y_test, result)\n",
    "print(\"R2 Score: %.2f%%\" % (score * 100.0))"
   ]
  },
  {
   "cell_type": "code",
   "execution_count": null,
   "metadata": {},
   "outputs": [],
   "source": [
    "from sklearn.ensemble import RandomForestRegressor\n",
    "regressor = RandomForestRegressor(n_estimators=7,max_depth = 8,max_features=8)\n",
    "regressor.fit(x, y)"
   ]
  },
  {
   "cell_type": "code",
   "execution_count": 45,
   "metadata": {},
   "outputs": [],
   "source": [
    "test = pd.concat([data_test_1, data_test_2, data_test_3, data_test_4, data_test_5, data_test_6], ignore_index=True)\n",
    "result = regressor.predict(test)"
   ]
  },
  {
   "cell_type": "code",
   "execution_count": 46,
   "metadata": {},
   "outputs": [],
   "source": [
    "pd.DataFrame(data={\"Id\": [i for i in range(1, len(test) + 1)], \"Predicted\": result}).to_csv('result/sklrean_rf_result.csv', index=False)"
   ]
  },
  {
   "cell_type": "code",
   "execution_count": 13,
   "metadata": {},
   "outputs": [
    {
     "name": "stdout",
     "output_type": "stream",
     "text": [
      "(10915121,) (10915121, 13)\n"
     ]
    }
   ],
   "source": [
    "print(np.shape(result), test.shape)"
   ]
  },
  {
   "cell_type": "code",
   "execution_count": 12,
   "metadata": {},
   "outputs": [
    {
     "name": "stdout",
     "output_type": "stream",
     "text": [
      "[-0.18695431 -0.14551281 -0.17689352 ...  0.01989255 -0.03957935\n",
      "  0.21760646]\n"
     ]
    }
   ],
   "source": [
    "print(result)"
   ]
  },
  {
   "cell_type": "code",
   "execution_count": null,
   "metadata": {},
   "outputs": [],
   "source": []
  }
 ],
 "metadata": {
  "kernelspec": {
   "display_name": "Python 3",
   "language": "python",
   "name": "python3"
  },
  "language_info": {
   "codemirror_mode": {
    "name": "ipython",
    "version": 3
   },
   "file_extension": ".py",
   "mimetype": "text/x-python",
   "name": "python",
   "nbconvert_exporter": "python",
   "pygments_lexer": "ipython3",
   "version": "3.7.3"
  }
 },
 "nbformat": 4,
 "nbformat_minor": 2
}
